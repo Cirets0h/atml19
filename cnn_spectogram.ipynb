{
 "cells": [
  {
   "cell_type": "code",
   "execution_count": 2,
   "metadata": {},
   "outputs": [],
   "source": [
    "import time\n",
    "import datetime\n",
    "import os\n",
    "import random\n",
    "import copy\n",
    "\n",
    "import torch\n",
    "import torch.nn as nn\n",
    "import torch.optim as optim\n",
    "from torch.utils.data.sampler import SubsetRandomSampler\n",
    "import numpy as np\n",
    "import torchvision\n",
    "from torchvision import datasets, models, transforms\n",
    "import matplotlib.pyplot as plt\n",
    "import adabound\n",
    "\n",
    "from trainer_helper import Trainer_Helper\n",
    "\n",
    "device = torch.device(\"cuda:0\" if torch.cuda.is_available() else \"cpu\")\n",
    "random.seed(23)\n",
    "torch.manual_seed(23)\n",
    "if device == \"cuda:0\":\n",
    "    torch.cuda.manual_seed(23)\n"
   ]
  },
  {
   "cell_type": "code",
   "execution_count": 3,
   "metadata": {},
   "outputs": [],
   "source": [
    "data_dir = \"UrbanSound8K/spectogram/\"\n",
    "\n",
    "num_classes = 10\n",
    "batch_size = 32"
   ]
  },
  {
   "cell_type": "markdown",
   "metadata": {},
   "source": [
    "We make sure that the images are exactly 224 because the output size of the plot from matplotlib varies by a few pixels."
   ]
  },
  {
   "cell_type": "code",
   "execution_count": 4,
   "metadata": {},
   "outputs": [],
   "source": [
    "data_transforms = transforms.Compose([\n",
    "    transforms.Resize(224),\n",
    "    transforms.CenterCrop(224),\n",
    "    transforms.ToTensor(),\n",
    "    transforms.Normalize([0.485, 0.456, 0.406], [0.229, 0.224, 0.225])\n",
    "])\n",
    "\n",
    "train_dataset = datasets.ImageFolder(data_dir + 'train/', data_transforms)\n",
    "val_dataset = datasets.ImageFolder(data_dir + 'val/', data_transforms)\n",
    "test_dataset = datasets.ImageFolder(data_dir + 'test/', data_transforms)\n",
    "\n",
    "train_dataloader = torch.utils.data.DataLoader(train_dataset, batch_size=batch_size, pin_memory =True, shuffle=True, num_workers=4)\n",
    "val_dataloader = torch.utils.data.DataLoader(val_dataset, batch_size=batch_size, pin_memory=True, num_workers=4)\n",
    "test_dataloader = torch.utils.data.DataLoader(test_dataset, batch_size=batch_size, num_workers=4)"
   ]
  },
  {
   "cell_type": "markdown",
   "metadata": {},
   "source": [
    "CNN Spectogram\n",
    "==============\n",
    "\n",
    "We will run different CNN on the spectograms created with *data_preparaation.ipynb*.\n",
    "\n",
    "First we will try a very basic CNN to get a baseline. The we will try modified versions of ResNet and Densnet and evaluate whether these more advanced Neural Networks can get a higher accuracy."
   ]
  },
  {
   "cell_type": "markdown",
   "metadata": {},
   "source": [
    "Simple CNN\n",
    "-----------\n",
    "\n",
    "We define a simple CNN with 4 Convelutional Layers with BatchNorm and ReLUs."
   ]
  },
  {
   "cell_type": "code",
   "execution_count": 5,
   "metadata": {},
   "outputs": [],
   "source": [
    "class ConvNet(nn.Module):\n",
    "\n",
    "    def __init__(self):\n",
    "        super(ConvNet, self).__init__()\n",
    "        self.conv_layers = nn.Sequential(\n",
    "            # input.size: 3x224x224\n",
    "            nn.Conv2d(in_channels=3, out_channels=16, kernel_size=3, stride=1, padding=1),\n",
    "            # output: 16x224x224\n",
    "            nn.ReLU(),\n",
    "            nn.BatchNorm2d(16),\n",
    "            nn.MaxPool2d(kernel_size=2, stride=2),\n",
    "            # output: 16x112x112\n",
    "\n",
    "\n",
    "            nn.Conv2d(in_channels=16, out_channels=32, kernel_size=3, stride=1, padding=1),\n",
    "            # output: 128x112x112\n",
    "            nn.ReLU(),\n",
    "            nn.BatchNorm2d(32),\n",
    "            nn.MaxPool2d(kernel_size=2, stride=2),\n",
    "            #output: 32x56x56\n",
    "\n",
    "\n",
    "            nn.Conv2d(in_channels=32, out_channels=64, kernel_size=3, stride=1, padding=1),\n",
    "            # output: 64x56x56\n",
    "            nn.ReLU(),\n",
    "            nn.BatchNorm2d(64),\n",
    "            nn.Conv2d(in_channels=64, out_channels=64, kernel_size=3, stride=1, padding=1),\n",
    "            # output: 64x56x56\n",
    "            nn.ReLU(),\n",
    "            nn.BatchNorm2d(64),            \n",
    "            nn.MaxPool2d(kernel_size=2, stride=2),\n",
    "            #output: 64x28x28\n",
    "\n",
    "\n",
    "            nn.Conv2d(in_channels=64, out_channels=64, kernel_size=3, stride=1, padding=1),\n",
    "            # output: 64x14x14\n",
    "            nn.ReLU(),\n",
    "            nn.BatchNorm2d(64),            \n",
    "            nn.AdaptiveAvgPool2d((1,1))\n",
    "            # output: 256x7x7\n",
    "        )\n",
    "        self.linear_layer = nn.Sequential(\n",
    "            nn.Linear(64, 10)\n",
    "        )\n",
    "\n",
    "    def forward(self, input):\n",
    "        output = self.conv_layers(input)\n",
    "        output = output.view(input.size(0), -1)\n",
    "        output = self.linear_layer(output)\n",
    "        return output"
   ]
  },
  {
   "cell_type": "markdown",
   "metadata": {},
   "source": [
    "We train the model with the brand new AdaBound optimizer for 30 epochs."
   ]
  },
  {
   "cell_type": "code",
   "execution_count": null,
   "metadata": {},
   "outputs": [],
   "source": [
    "model = ConvNet()\n",
    "\n",
    "#run_name = datetime.datetime.now().strftime(\"%Y.%m.%d.%H.%M.%S\")\n",
    "run_name = 'optim-adabound-lr0-001'\n",
    "\n",
    "#optimizer = torch.optim.Adam(model.parameters(), lr=0.01)\n",
    "optimizer = adabound.AdaBound(model.parameters(), lr=1e-3, final_lr=0.1)\n",
    "criterion = nn.CrossEntropyLoss()\n",
    "\n",
    "trainer = Trainer_Helper(run_name, device)\n",
    "trainer.setup_dataloader(train_dataloader, val_dataloader, test_dataloader)\n",
    "trainer.train(model, optimizer, criterion, 30)\n",
    "\n",
    "# Use a CosineAnnelingScheduler with SGD optimizer. Similar result as Adabound but much slower.\n",
    "#optimizer = optim.SGD(model.parameters(), lr=0.01, momentum=0.9)\n",
    "#lr = 1e-3\n",
    "#lr_handler = CosineAnnealingScheduler(optimizer, 'lr', lr, lr*100, len(train_dataloader), cycle_mult=2)\n",
    "#trainer.add_event_handler(Events.ITERATION_COMPLETED, lr_handler)\n"
   ]
  },
  {
   "cell_type": "markdown",
   "metadata": {},
   "source": [
    "Evaluation of the SimpleCNN:"
   ]
  },
  {
   "cell_type": "code",
   "execution_count": 7,
   "metadata": {},
   "outputs": [
    {
     "name": "stdout",
     "output_type": "stream",
     "text": [
      "Test Accuracy: 81.83990442054959\n"
     ]
    }
   ],
   "source": [
    "correct = 0\n",
    "total = 0\n",
    "\n",
    "model = ConvNet()\n",
    "model = model.to(device)\n",
    "\n",
    "model_filepath = 'saved_models/simple_cnn_best_val=79_9.pth' #'models_checkpoints/optim-adabound_model_29_val_accuracy=79.90196.pth'\n",
    "\n",
    "model.load_state_dict(torch.load(model_filepath))\n",
    "model.eval()\n",
    "\n",
    "with torch.no_grad():\n",
    "    for imgs, labels in test_dataloader:\n",
    "        imgs = imgs.to(device)\n",
    "        outputs = model(imgs)\n",
    "        _, pred = torch.max(outputs.data, 1)\n",
    "        total += labels.size(0)\n",
    "        correct += (pred.cpu() == labels).sum().item()\n",
    "\n",
    "print('Test Accuracy: {}'.format(100.0*correct/total))"
   ]
  },
  {
   "cell_type": "markdown",
   "metadata": {},
   "source": [
    "ResNet and DenseNet\n",
    "-------------------\n",
    "Can we get a better accuracy by using much bigger Convolution Networks? We will use the pretrained versions comming with PyTorch since they train much faster (even though we don't have real images)."
   ]
  },
  {
   "cell_type": "code",
   "execution_count": 14,
   "metadata": {},
   "outputs": [
    {
     "name": "stderr",
     "output_type": "stream",
     "text": [
      "WARNING:root:Setting up a new session...\n"
     ]
    },
    {
     "name": "stdout",
     "output_type": "stream",
     "text": [
      "Training Results - Epoch: 1  Avg accuracy: 0.86 Avg loss: 0.39\n",
      "Validation Results - Epoch: 1  Avg accuracy: 0.79 Avg loss: 0.70\n",
      "Training Results - Epoch: 2  Avg accuracy: 0.95 Avg loss: 0.16\n",
      "Validation Results - Epoch: 2  Avg accuracy: 0.80 Avg loss: 0.76\n",
      "Training Results - Epoch: 3  Avg accuracy: 0.97 Avg loss: 0.10\n",
      "Validation Results - Epoch: 3  Avg accuracy: 0.73 Avg loss: 0.92\n",
      "Training Results - Epoch: 4  Avg accuracy: 0.97 Avg loss: 0.08\n",
      "Validation Results - Epoch: 4  Avg accuracy: 0.80 Avg loss: 0.91\n",
      "Training Results - Epoch: 5  Avg accuracy: 0.98 Avg loss: 0.06\n",
      "Validation Results - Epoch: 5  Avg accuracy: 0.84 Avg loss: 0.85\n",
      "Training Results - Epoch: 6  Avg accuracy: 0.98 Avg loss: 0.05\n",
      "Validation Results - Epoch: 6  Avg accuracy: 0.85 Avg loss: 0.78\n",
      "Training Results - Epoch: 7  Avg accuracy: 0.99 Avg loss: 0.03\n",
      "Validation Results - Epoch: 7  Avg accuracy: 0.80 Avg loss: 1.05\n",
      "Training Results - Epoch: 8  Avg accuracy: 1.00 Avg loss: 0.01\n",
      "Validation Results - Epoch: 8  Avg accuracy: 0.85 Avg loss: 0.90\n",
      "Training Results - Epoch: 9  Avg accuracy: 1.00 Avg loss: 0.01\n",
      "Validation Results - Epoch: 9  Avg accuracy: 0.83 Avg loss: 1.06\n",
      "Training Results - Epoch: 10  Avg accuracy: 1.00 Avg loss: 0.01\n",
      "Validation Results - Epoch: 10  Avg accuracy: 0.84 Avg loss: 0.95\n",
      "Training Results - Epoch: 11  Avg accuracy: 1.00 Avg loss: 0.00\n",
      "Validation Results - Epoch: 11  Avg accuracy: 0.87 Avg loss: 0.90\n",
      "Training Results - Epoch: 12  Avg accuracy: 1.00 Avg loss: 0.00\n",
      "Validation Results - Epoch: 12  Avg accuracy: 0.84 Avg loss: 0.99\n",
      "Training Results - Epoch: 13  Avg accuracy: 1.00 Avg loss: 0.00\n",
      "Validation Results - Epoch: 13  Avg accuracy: 0.87 Avg loss: 0.96\n",
      "Training Results - Epoch: 14  Avg accuracy: 1.00 Avg loss: 0.01\n",
      "Validation Results - Epoch: 14  Avg accuracy: 0.85 Avg loss: 1.01\n",
      "Training Results - Epoch: 15  Avg accuracy: 1.00 Avg loss: 0.01\n",
      "Validation Results - Epoch: 15  Avg accuracy: 0.81 Avg loss: 1.13\n",
      "Training Results - Epoch: 16  Avg accuracy: 1.00 Avg loss: 0.00\n",
      "Validation Results - Epoch: 16  Avg accuracy: 0.86 Avg loss: 1.19\n",
      "Training Results - Epoch: 17  Avg accuracy: 1.00 Avg loss: 0.00\n",
      "Validation Results - Epoch: 17  Avg accuracy: 0.86 Avg loss: 1.07\n",
      "Training Results - Epoch: 18  Avg accuracy: 1.00 Avg loss: 0.01\n",
      "Validation Results - Epoch: 18  Avg accuracy: 0.83 Avg loss: 1.27\n",
      "Training Results - Epoch: 19  Avg accuracy: 1.00 Avg loss: 0.00\n",
      "Validation Results - Epoch: 19  Avg accuracy: 0.83 Avg loss: 1.24\n",
      "Training Results - Epoch: 20  Avg accuracy: 1.00 Avg loss: 0.00\n",
      "Validation Results - Epoch: 20  Avg accuracy: 0.84 Avg loss: 1.08\n",
      "Training Results - Epoch: 21  Avg accuracy: 1.00 Avg loss: 0.00\n",
      "Validation Results - Epoch: 21  Avg accuracy: 0.85 Avg loss: 1.19\n",
      "Training Results - Epoch: 22  Avg accuracy: 1.00 Avg loss: 0.00\n",
      "Validation Results - Epoch: 22  Avg accuracy: 0.84 Avg loss: 1.23\n",
      "Training Results - Epoch: 23  Avg accuracy: 1.00 Avg loss: 0.00\n",
      "Validation Results - Epoch: 23  Avg accuracy: 0.82 Avg loss: 1.22\n",
      "Training Results - Epoch: 24  Avg accuracy: 0.99 Avg loss: 0.02\n",
      "Validation Results - Epoch: 24  Avg accuracy: 0.81 Avg loss: 1.44\n",
      "Training Results - Epoch: 25  Avg accuracy: 1.00 Avg loss: 0.00\n",
      "Validation Results - Epoch: 25  Avg accuracy: 0.81 Avg loss: 1.55\n",
      "Training Results - Epoch: 26  Avg accuracy: 1.00 Avg loss: 0.00\n",
      "Validation Results - Epoch: 26  Avg accuracy: 0.83 Avg loss: 1.32\n",
      "Training Results - Epoch: 27  Avg accuracy: 1.00 Avg loss: 0.01\n",
      "Validation Results - Epoch: 27  Avg accuracy: 0.84 Avg loss: 1.18\n",
      "Training Results - Epoch: 28  Avg accuracy: 1.00 Avg loss: 0.00\n",
      "Validation Results - Epoch: 28  Avg accuracy: 0.84 Avg loss: 1.09\n",
      "Training Results - Epoch: 29  Avg accuracy: 1.00 Avg loss: 0.00\n",
      "Validation Results - Epoch: 29  Avg accuracy: 0.86 Avg loss: 1.12\n",
      "Training Results - Epoch: 30  Avg accuracy: 1.00 Avg loss: 0.01\n",
      "Validation Results - Epoch: 30  Avg accuracy: 0.81 Avg loss: 1.39\n"
     ]
    },
    {
     "data": {
      "image/png": "[encoded data removed]",
      "text/plain": [
       "<Figure size 432x288 with 1 Axes>"
      ]
     },
     "metadata": {
      "needs_background": "light"
     },
     "output_type": "display_data"
    },
    {
     "data": {
      "image/png": "[encoded data removed]",
      "text/plain": [
       "<Figure size 432x288 with 1 Axes>"
      ]
     },
     "metadata": {
      "needs_background": "light"
     },
     "output_type": "display_data"
    }
   ],
   "source": [
    "# Setup ResNet\n",
    "model_resnet = models.resnet34(pretrained=True)\n",
    "resnet_num_ftrs = model_resnet.fc.in_features\n",
    "model_resnet.fc = nn.Linear(resnet_num_ftrs, 10)\n",
    "model_resnet = model_resnet.to(device)\n",
    "\n",
    "run_name = 'resnet-adabound-lr0-001'\n",
    "\n",
    "optimizer = adabound.AdaBound(model_resnet.parameters(), lr=1e-3, final_lr=0.1)\n",
    "criterion = nn.CrossEntropyLoss()\n",
    "\n",
    "# Train ResNet\n",
    "trainer = Trainer_Helper(run_name, device)\n",
    "trainer.setup_dataloader(train_dataloader, val_dataloader, test_dataloader)\n",
    "trainer.train(model_resnet, optimizer, criterion, 30)"
   ]
  },
  {
   "cell_type": "code",
   "execution_count": 34,
   "metadata": {},
   "outputs": [
    {
     "name": "stderr",
     "output_type": "stream",
     "text": [
      "WARNING:root:Setting up a new session...\n"
     ]
    },
    {
     "name": "stdout",
     "output_type": "stream",
     "text": [
      "Training Results - Epoch: 1  Avg accuracy: 0.85 Avg loss: 0.40\n",
      "Validation Results - Epoch: 1  Avg accuracy: 0.74 Avg loss: 0.90\n",
      "Training Results - Epoch: 2  Avg accuracy: 0.96 Avg loss: 0.12\n",
      "Validation Results - Epoch: 2  Avg accuracy: 0.83 Avg loss: 0.70\n",
      "Training Results - Epoch: 3  Avg accuracy: 0.98 Avg loss: 0.05\n",
      "Validation Results - Epoch: 3  Avg accuracy: 0.85 Avg loss: 0.63\n",
      "Training Results - Epoch: 4  Avg accuracy: 0.96 Avg loss: 0.12\n",
      "Validation Results - Epoch: 4  Avg accuracy: 0.82 Avg loss: 0.97\n",
      "Training Results - Epoch: 5  Avg accuracy: 0.99 Avg loss: 0.03\n",
      "Validation Results - Epoch: 5  Avg accuracy: 0.83 Avg loss: 0.82\n",
      "Training Results - Epoch: 6  Avg accuracy: 0.99 Avg loss: 0.02\n",
      "Validation Results - Epoch: 6  Avg accuracy: 0.87 Avg loss: 0.63\n",
      "Training Results - Epoch: 7  Avg accuracy: 0.98 Avg loss: 0.04\n",
      "Validation Results - Epoch: 7  Avg accuracy: 0.87 Avg loss: 0.96\n",
      "Training Results - Epoch: 8  Avg accuracy: 0.99 Avg loss: 0.02\n",
      "Validation Results - Epoch: 8  Avg accuracy: 0.86 Avg loss: 0.78\n",
      "Training Results - Epoch: 9  Avg accuracy: 0.99 Avg loss: 0.02\n",
      "Validation Results - Epoch: 9  Avg accuracy: 0.85 Avg loss: 1.04\n",
      "Training Results - Epoch: 10  Avg accuracy: 0.99 Avg loss: 0.02\n",
      "Validation Results - Epoch: 10  Avg accuracy: 0.85 Avg loss: 1.03\n",
      "Training Results - Epoch: 11  Avg accuracy: 1.00 Avg loss: 0.00\n",
      "Validation Results - Epoch: 11  Avg accuracy: 0.88 Avg loss: 0.89\n",
      "Training Results - Epoch: 12  Avg accuracy: 1.00 Avg loss: 0.00\n",
      "Validation Results - Epoch: 12  Avg accuracy: 0.88 Avg loss: 0.79\n",
      "Training Results - Epoch: 13  Avg accuracy: 1.00 Avg loss: 0.00\n",
      "Validation Results - Epoch: 13  Avg accuracy: 0.87 Avg loss: 0.84\n",
      "Training Results - Epoch: 14  Avg accuracy: 1.00 Avg loss: 0.00\n",
      "Validation Results - Epoch: 14  Avg accuracy: 0.87 Avg loss: 0.95\n",
      "Training Results - Epoch: 15  Avg accuracy: 1.00 Avg loss: 0.00\n",
      "Validation Results - Epoch: 15  Avg accuracy: 0.87 Avg loss: 0.91\n"
     ]
    },
    {
     "data": {
      "image/png": "[encoded data removed]",
      "text/plain": [
       "<Figure size 432x288 with 1 Axes>"
      ]
     },
     "metadata": {
      "needs_background": "light"
     },
     "output_type": "display_data"
    },
    {
     "data": {
      "image/png": "[encoded data removed]",
      "text/plain": [
       "<Figure size 432x288 with 1 Axes>"
      ]
     },
     "metadata": {
      "needs_background": "light"
     },
     "output_type": "display_data"
    }
   ],
   "source": [
    "# Setup Densenet\n",
    "model_densenet = models.densenet121(pretrained=True)\n",
    "densenet_num_ftrs = model_densenet.classifier.in_features\n",
    "model_densenet.classifier = nn.Linear(densenet_num_ftrs, 10)\n",
    "model_densenet = model_densenet.to(device)\n",
    "\n",
    "run_name = 'densenet-adabound-fixed2'\n",
    "\n",
    "optimizer = adabound.AdaBound(model_densenet.parameters(), lr=1e-3, final_lr=0.1)\n",
    "criterion = nn.CrossEntropyLoss()\n",
    "\n",
    "# Train Densenet\n",
    "trainer = Trainer_Helper(run_name, device)\n",
    "trainer.setup_dataloader(train_dataloader, val_dataloader, test_dataloader)\n",
    "trainer.train(model_densenet, optimizer, criterion, 15)"
   ]
  },
  {
   "cell_type": "code",
   "execution_count": 8,
   "metadata": {},
   "outputs": [
    {
     "name": "stdout",
     "output_type": "stream",
     "text": [
      "Resnet Test Accuracy: 81.95937873357228\n",
      "Densenet Test Accuracy: 84.10991636798089\n"
     ]
    }
   ],
   "source": [
    "total = 0\n",
    "\n",
    "resnet_correct = 0\n",
    "densenet_correct = 0\n",
    "\n",
    "# Setup Resnet\n",
    "model_resnet = models.resnet34(pretrained=True)\n",
    "resnet_num_ftrs = model_resnet.fc.in_features\n",
    "model_resnet.fc = nn.Linear(resnet_num_ftrs, 10)\n",
    "model_resnet = model_resnet.to(device)\n",
    "\n",
    "# Setup Densenet\n",
    "model_densenet = models.densenet121(pretrained=True)\n",
    "densenet_num_ftrs = model_densenet.classifier.in_features\n",
    "model_densenet.classifier = nn.Linear(densenet_num_ftrs, 10)\n",
    "model_densenet = model_densenet.to(device)\n",
    "\n",
    "model_resnet_filepath = 'saved_models/resnet_adabound_best_val=87_3.pth'#'models_checkpoints/resnet-adabound-lr0-001_model_11_val_accuracy=87.2549.pth'\n",
    "model_densenet_filepath = 'saved_models/densenet_adabound_best_val=88_1.pth'#'models_checkpoints/densenet-adabound-fixed2_model_12_val_accuracy=88.11275.pth'\n",
    "\n",
    "model_resnet.load_state_dict(torch.load(model_resnet_filepath))\n",
    "model_densenet.load_state_dict(torch.load(model_densenet_filepath))\n",
    "\n",
    "model_resnet.eval()\n",
    "model_densenet.eval()\n",
    "\n",
    "with torch.no_grad():\n",
    "    for imgs, labels in test_dataloader:\n",
    "        imgs = imgs.to(device)\n",
    "        resnet_out = model_resnet(imgs)\n",
    "        densenet_out = model_densenet(imgs)\n",
    "        _, resnet_pred = torch.max(resnet_out.data, 1)\n",
    "        _, densenet_pred = torch.max(densenet_out.data, 1)\n",
    "        total += labels.size(0)\n",
    "        resnet_correct += (resnet_pred.cpu() == labels).sum().item()\n",
    "        densenet_correct += (densenet_pred.cpu() == labels).sum().item()\n",
    "\n",
    "print('Resnet Test Accuracy: {}'.format(100.0*resnet_correct/total))\n",
    "print('Densenet Test Accuracy: {}'.format(100.0*densenet_correct/total))"
   ]
  },
  {
   "cell_type": "markdown",
   "metadata": {},
   "source": [
    "Conclusion\n",
    "===========\n",
    "\n",
    "When switching from the relative simple CNN to Resnet or Densenet the test accuracy jumps from **81.8%** to **81.9%** and **84.1%** respectivly.\n",
    "Overall this approach seems to deliver very good results."
   ]
  }
 ],
 "metadata": {
  "kernelspec": {
   "display_name": "cuda_venv",
   "language": "python",
   "name": "cuda_venv"
  },
  "language_info": {
   "codemirror_mode": {
    "name": "ipython",
    "version": 3
   },
   "file_extension": ".py",
   "mimetype": "text/x-python",
   "name": "python",
   "nbconvert_exporter": "python",
   "pygments_lexer": "ipython3",
   "version": "3.7.3"
  }
 },
 "nbformat": 4,
 "nbformat_minor": 2
}
