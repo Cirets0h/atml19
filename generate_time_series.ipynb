{
 "cells": [
  {
   "cell_type": "code",
   "execution_count": 2,
   "metadata": {},
   "outputs": [],
   "source": [
    "import os \n",
    "\n",
    "import numpy as np\n",
    "import pandas as pd\n",
    "\n",
    "import librosa\n",
    "import librosa.display\n",
    "\n",
    "import matplotlib.pyplot as plt\n",
    "\n",
    "import IPython.display as ipd"
   ]
  },
  {
   "cell_type": "code",
   "execution_count": 3,
   "metadata": {},
   "outputs": [],
   "source": [
    "train_dir = \"./data/train/\"\n",
    "test_dir = \"./data/test/\"\n",
    "\n",
    "train_df = pd.read_csv(train_dir + 'train.csv')\n",
    "train_ids = train_df['ID'].to_numpy()\n",
    "test_ids = pd.read_csv(test_dir + 'test.csv')['ID'].to_numpy()"
   ]
  },
  {
   "cell_type": "code",
   "execution_count": 4,
   "metadata": {},
   "outputs": [],
   "source": [
    "train_bitmap_dir = train_dir + 'bitmap/'\n",
    "if not os.path.exists(train_bitmap_dir):\n",
    "    os.makedirs(train_bitmap_dir)\n",
    "\n",
    "test_bitmap_dir = test_dir + 'bitmap/'\n",
    "if not os.path.exists(test_bitmap_dir):\n",
    "    os.makedirs(test_bitmap_dir)"
   ]
  },
  {
   "cell_type": "code",
   "execution_count": 88,
   "metadata": {},
   "outputs": [
    {
     "name": "stdout",
     "output_type": "stream",
     "text": [
      "Iteration 200\n",
      "Iteration 400\n",
      "Iteration 600\n",
      "Iteration 800\n",
      "Iteration 1000\n",
      "Iteration 1200\n",
      "Iteration 1400\n",
      "Iteration 1600\n",
      "Iteration 1800\n",
      "Iteration 2000\n",
      "Iteration 2200\n",
      "Iteration 2400\n",
      "Iteration 2600\n",
      "Iteration 2800\n",
      "Iteration 3000\n",
      "Iteration 3200\n",
      "Iteration 3400\n",
      "Iteration 3600\n",
      "Iteration 3800\n",
      "Iteration 4000\n",
      "Iteration 4200\n",
      "Iteration 4400\n",
      "Iteration 4600\n",
      "Iteration 4800\n",
      "Iteration 5000\n",
      "Iteration 5200\n",
      "Iteration 5400\n"
     ]
    }
   ],
   "source": [
    "i = 1\n",
    "for idx, row in train_df.iterrows():\n",
    "\n",
    "    filename = train_dir + 'Train/' + str(row['ID']) + '.wav' \n",
    "    y, sr = librosa.load(filename, sr=44100, duration=4.0)\n",
    "    dur = librosa.get_duration(y=y, sr=sr)\n",
    "\n",
    "    i += 1\n",
    "    #if dur != 4.0:\n",
    "    #    continue\n",
    "    \n",
    "    y_int = (((y+1)*np.iinfo(np.uint16).max)/2).astype(np.uint16)    \n",
    "    if not os.path.exists(train_bitmap_dir + row['Class']):\n",
    "        os.makedirs(train_bitmap_dir + row['Class'])\n",
    "    \n",
    "    \n",
    "    mask = np.ones(y_int.shape[0], dtype=np.uint16)\n",
    "    bitmaps_out = []\n",
    "    for k in range(0,16):\n",
    "        y_bits = np.bitwise_and(mask, y_int, dtype=np.uint16)\n",
    "        y_bits = (y_bits > 0)\n",
    "        bitmaps_out.append(np.packbits(y_bits))\n",
    "        mask = np.left_shift(mask, 1)\n",
    "    \n",
    "    out = np.array(bitmaps_out)\n",
    "\n",
    "    save_file = train_bitmap_dir + row['Class'] + '/' + str(row['ID'])\n",
    "    np.savez_compressed(save_file, out)\n",
    "\n",
    "    if i % 200 == 0:\n",
    "        print(\"Iteration {}\".format(i))"
   ]
  },
  {
   "cell_type": "code",
   "execution_count": 16,
   "metadata": {},
   "outputs": [
    {
     "name": "stdout",
     "output_type": "stream",
     "text": [
      "[-0.03956664 -0.07246509 -0.10743877 -0.14027619 -0.16530098 -0.18950179\n",
      " -0.21168841 -0.22948043 -0.24000916 -0.24476997 -0.25236896 -0.26320287\n",
      " -0.27376211 -0.2713817  -0.25426108 -0.23622492 -0.22700847 -0.22017243\n",
      " -0.21232929 -0.19838254 -0.17924773 -0.16514839 -0.15465019 -0.14271763\n",
      " -0.12544442 -0.10667582 -0.09764248 -0.09495689 -0.08781567 -0.07521172\n",
      " -0.06132601 -0.05250629 -0.05043107 -0.04994278 -0.04881361 -0.04982071\n",
      " -0.04847791 -0.0471046  -0.04725719 -0.04881361 -0.05354391 -0.05891508\n",
      " -0.06410315 -0.06749065 -0.0682536  -0.06782635 -0.06715496 -0.06410315\n",
      " -0.05973907 -0.05577173 -0.05412375 -0.05101091 -0.04078737 -0.02446021\n",
      " -0.0068513   0.00541695  0.01448081  0.02693217  0.04216068  0.05711452\n",
      "  0.07142748  0.0814374   0.08891432  0.10011444  0.11116197  0.11573968\n",
      "  0.11403067  0.10670634  0.09501793  0.08278019  0.06340124  0.03529412\n",
      "  0.00129702 -0.04057374 -0.08973831 -0.14518959 -0.20411994 -0.27263294\n",
      " -0.34856184 -0.42433814 -0.49636072 -0.56862745 -0.64382391 -0.72719921\n",
      " -0.8149691  -0.89877165 -0.96658274 -0.99511711 -1.         -1.\n",
      " -1.         -1.         -1.         -1.         -1.         -1.\n",
      " -0.99771115 -0.96176089 -0.92675669 -0.89126421]\n"
     ]
    }
   ],
   "source": [
    "filename = train_dir + 'bitmap/dog_bark/4.npz'\n",
    "\n",
    "data = np.load(filename)['arr_0']\n",
    "\n",
    "result = np.zeros(8*data.shape[1])\n",
    "for i in range(0,16):\n",
    "    row = np.unpackbits(data[i])\n",
    "    result = result + (row*(2**i))\n",
    "\n",
    "result = ((result.astype(np.float)*2)/np.iinfo(np.uint16).max)-1.0\n",
    "    \n",
    "np.set_printoptions(threshold=np.inf)\n",
    "z = 100000\n",
    "print(result[z:z+100])\n",
    "\n",
    "#row = np.unpackbits(data[15])\n",
    "#print(data[11].shape)"
   ]
  },
  {
   "cell_type": "code",
   "execution_count": 17,
   "metadata": {},
   "outputs": [
    {
     "name": "stdout",
     "output_type": "stream",
     "text": [
      "[-0.03955078 -0.07246399 -0.10743713 -0.14025879 -0.1652832  -0.18948364\n",
      " -0.21168518 -0.22946167 -0.23999023 -0.24476624 -0.2523651  -0.2631836\n",
      " -0.27374268 -0.27137756 -0.25424194 -0.23620605 -0.227005   -0.22015381\n",
      " -0.21232605 -0.19837952 -0.179245   -0.16514587 -0.15464783 -0.1427002\n",
      " -0.12542725 -0.10667419 -0.09762573 -0.09494019 -0.08781433 -0.07521057\n",
      " -0.06132507 -0.05250549 -0.05041504 -0.04992676 -0.04881287 -0.04980469\n",
      " -0.04847717 -0.04710388 -0.04724121 -0.04879761 -0.05354309 -0.05889893\n",
      " -0.06410217 -0.06747437 -0.0682373  -0.06781006 -0.06713867 -0.06408691\n",
      " -0.0597229  -0.05577087 -0.05410767 -0.05101013 -0.04078674 -0.02444458\n",
      " -0.0068512   0.00544739  0.01451111  0.02696228  0.04217529  0.05714417\n",
      "  0.07144165  0.08145142  0.08892822  0.10012817  0.11117554  0.11575317\n",
      "  0.11405945  0.10673523  0.095047    0.08279419  0.06341553  0.03530884\n",
      "  0.00131226 -0.04055786 -0.08973694 -0.14518738 -0.20410156 -0.27262878\n",
      " -0.34855652 -0.4243164  -0.4963379  -0.5686035  -0.6437988  -0.72717285\n",
      " -0.8149414  -0.89875793 -0.966568   -0.9951019  -1.         -1.\n",
      " -1.         -1.         -1.         -1.         -1.         -1.\n",
      " -0.9976959  -0.96173096 -0.9267273  -0.89123535]\n"
     ]
    }
   ],
   "source": [
    "filename = train_dir + 'Train/4.wav' \n",
    "y, sr = librosa.load(filename, sr=44100, duration=4.0)\n",
    "y_int = (((y+1)*np.iinfo(np.uint16).max)/2).astype(np.uint16)\n",
    "\n",
    "#print(np.min(y), np.max(y))\n",
    "\n",
    "#mask = np.ones(y_int.shape[0], dtype=np.uint16)\n",
    "#bitmaps_out = []\n",
    "#for k in range(0,16):\n",
    "#    y_bits = np.bitwise_and(mask, y_int, dtype=np.uint16)\n",
    "    #print(mask[:10])\n",
    "#    y_bits = (y_bits > 0)\n",
    "#    bitmaps_out.append(np.packbits(y_bits))\n",
    "#    mask = np.left_shift(mask, 1)\n",
    "    \n",
    "#    if k == 15:\n",
    "#        print(y_bits)\n",
    "\n",
    "#test = bitmaps_out[15]    \n",
    "\n",
    "np.set_printoptions(threshold=np.inf)\n",
    "z = 100000\n",
    "print(y[z:z+100])"
   ]
  }
 ],
 "metadata": {
  "kernelspec": {
   "display_name": "cuda_venv",
   "language": "python",
   "name": "cuda_venv"
  },
  "language_info": {
   "codemirror_mode": {
    "name": "ipython",
    "version": 3
   },
   "file_extension": ".py",
   "mimetype": "text/x-python",
   "name": "python",
   "nbconvert_exporter": "python",
   "pygments_lexer": "ipython3",
   "version": "3.7.3"
  }
 },
 "nbformat": 4,
 "nbformat_minor": 2
}
